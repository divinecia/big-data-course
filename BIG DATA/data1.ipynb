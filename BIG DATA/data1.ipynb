{
 "cells": [
  {
   "cell_type": "code",
   "execution_count": 2,
   "id": "8fa2f9c8-4258-430f-8284-c957f65d5d3b",
   "metadata": {
    "jupyter": {
     "source_hidden": true
    }
   },
   "outputs": [
    {
     "name": "stdout",
     "output_type": "stream",
     "text": [
      "I am in python class!\n"
     ]
    }
   ],
   "source": [
    "print(\"I am in python class!\")"
   ]
  },
  {
   "cell_type": "code",
   "execution_count": 10,
   "id": "08652fdc-eb99-4092-8483-124b3b2ccd5f",
   "metadata": {},
   "outputs": [
    {
     "name": "stdout",
     "output_type": "stream",
     "text": [
      "I know that i cn program in python.\n",
      "I am programming right now. \n",
      "My awesome program has three line!\n"
     ]
    }
   ],
   "source": [
    "print(\"I know that i cn program in python.\\n\"+ \"I am programming right now. \\n\" + \"My awesome program has three line!\")"
   ]
  },
  {
   "cell_type": "code",
   "execution_count": 3,
   "id": "53254b65-6c69-4e5b-baf8-ea9f1f7d3000",
   "metadata": {},
   "outputs": [
    {
     "name": "stdout",
     "output_type": "stream",
     "text": [
      "Helloworld!\n",
      "Hello5\n"
     ]
    }
   ],
   "source": [
    "st1= \"Hello\"\n",
    "st2= \"world!\"\n",
    "st3= st1 + st2\n",
    "print(st1 + st2)\n",
    "num= 5\n",
    "print(st1+str(num))"
   ]
  },
  {
   "cell_type": "code",
   "execution_count": 5,
   "id": "51a1bb41-6d9b-4089-9125-2d7b53538f7b",
   "metadata": {},
   "outputs": [
    {
     "name": "stdout",
     "output_type": "stream",
     "text": [
      "BCDDEFGABCD\n"
     ]
    }
   ],
   "source": [
    "st = \"ABCDEFG\"\n",
    "print(st[1] + st[2:4] + st[3:] + st[:4])"
   ]
  },
  {
   "cell_type": "code",
   "execution_count": null,
   "id": "ad0022e0-a313-4892-a799-738efe440384",
   "metadata": {},
   "outputs": [],
   "source": []
  }
 ],
 "metadata": {
  "kernelspec": {
   "display_name": "Python [conda env:base] *",
   "language": "python",
   "name": "conda-base-py"
  },
  "language_info": {
   "codemirror_mode": {
    "name": "ipython",
    "version": 3
   },
   "file_extension": ".py",
   "mimetype": "text/x-python",
   "name": "python",
   "nbconvert_exporter": "python",
   "pygments_lexer": "ipython3",
   "version": "3.12.7"
  }
 },
 "nbformat": 4,
 "nbformat_minor": 5
}
