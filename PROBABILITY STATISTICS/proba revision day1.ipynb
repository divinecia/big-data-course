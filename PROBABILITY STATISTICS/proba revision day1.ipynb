{
 "cells": [
  {
   "cell_type": "code",
   "execution_count": 63,
   "id": "d3bf90a0-abe1-4ea8-b99d-1053386023e5",
   "metadata": {},
   "outputs": [],
   "source": [
    "# WE GONNA LEARN STRING, LIST, TUPPLES, SETS, DICTIONARIES AND GRAPHS"
   ]
  },
  {
   "cell_type": "code",
   "execution_count": 65,
   "id": "0bee6fd5-87de-4bb9-8478-1f1bbaa67d51",
   "metadata": {},
   "outputs": [
    {
     "name": "stdout",
     "output_type": "stream",
     "text": [
      "IRADUKUNDA\n"
     ]
    }
   ],
   "source": [
    "#String\n",
    "#let's display our first name\n",
    "\n",
    "x='IRADUKUNDA'\n",
    "print (x)"
   ]
  },
  {
   "cell_type": "code",
   "execution_count": 128,
   "id": "2152632d-9225-4dc7-8430-c80c4b6ea4b2",
   "metadata": {},
   "outputs": [
    {
     "name": "stdout",
     "output_type": "stream",
     "text": [
      "['IRADUKUNDA', 'DIVINE']\n",
      "2\n",
      "0\n",
      "DIVINE\n"
     ]
    }
   ],
   "source": [
    "#List\n",
    "#let's list our first name and last name\n",
    "\n",
    "x=['IRADUKUNDA', 'DIVINE']\n",
    "print(x)\n",
    "\n",
    "z='house'\n",
    "print (z.index('u'))\n",
    "\n",
    "y=['pig', 'cow', 'horse']\n",
    "print (y.index('pig'))\n",
    "#let's display only the last name using indexing start with 0\n",
    "#indexing -access any item in the senquence using its index\n",
    "\n",
    "print (x[1])"
   ]
  },
  {
   "cell_type": "code",
   "execution_count": 69,
   "id": "f47e92cc-ad7d-4c70-a4f3-f4ddd9fd0630",
   "metadata": {},
   "outputs": [
    {
     "name": "stdout",
     "output_type": "stream",
     "text": [
      "ana\n",
      "ag\n",
      "Manage\n",
      "anager\n",
      "r\n",
      "ger\n",
      "Man\n",
      "Manager\n"
     ]
    }
   ],
   "source": [
    "#now let me show you how to display list using slicing \n",
    "#slicing -slice out substrings, sublists, subtupples usig index [start:end+1:step]\n",
    "#let take the word 'Manager'\n",
    "\n",
    "x='Manager'\n",
    "print(x[1:4])\n",
    "print (x[1:5:3])\n",
    "print (x[:6])\n",
    "print (x[1:])\n",
    "print (x[-1])\n",
    "print (x[-3:])\n",
    "print (x[:-4])\n",
    "print (x)"
   ]
  },
  {
   "cell_type": "code",
   "execution_count": 71,
   "id": "5edc5a02-6186-44eb-87fb-4572208df867",
   "metadata": {},
   "outputs": [
    {
     "name": "stdout",
     "output_type": "stream",
     "text": [
      "Iracia\n",
      "['Ira', 'Divine', 'Cia']\n"
     ]
    }
   ],
   "source": [
    "#adding and concatination same as other math operations\n",
    "#string\n",
    "\n",
    "x='Ira' + 'cia'\n",
    "print(x)\n",
    "\n",
    "#list\n",
    "y=['Ira', 'Divine'] + ['Cia']\n",
    "print(y)"
   ]
  },
  {
   "cell_type": "code",
   "execution_count": 130,
   "id": "a0c31970-ed33-41bb-b9c3-9abcbae128eb",
   "metadata": {},
   "outputs": [
    {
     "name": "stdout",
     "output_type": "stream",
     "text": [
      "True\n",
      "False\n",
      "2\n",
      "7\n",
      "9\n",
      "0 4\n",
      "1 6\n",
      "2 8\n"
     ]
    }
   ],
   "source": [
    "#checking membership and iterating\n",
    "x='bed' \n",
    "print ('d' in x)\n",
    "x=['bed','room']\n",
    "print ('room' not in x)\n",
    "\n",
    "#iterating index & item\n",
    "y=[2, 7, 9]\n",
    "for item in y:\n",
    "    print (item)\n",
    "x=[4, 6, 8]\n",
    "for index, item in enumerate(x):\n",
    "    print(index, item)\n",
    "    "
   ]
  },
  {
   "cell_type": "code",
   "execution_count": 132,
   "id": "229fc947-6983-4cc1-b8e7-8949116438c5",
   "metadata": {},
   "outputs": [
    {
     "name": "stdout",
     "output_type": "stream",
     "text": [
      "7\n",
      "3\n",
      "3\n",
      "3\n"
     ]
    }
   ],
   "source": [
    "#if you wan a number of items in a string, list or tupples use te word len\n",
    "\n",
    "#checking membership and iterating\n",
    "x='bedroom' \n",
    "print (len(x))\n",
    "\n",
    "y=['olga', 'clovis', 'ira']\n",
    "for item in y:\n",
    "    print (len(y))"
   ]
  },
  {
   "cell_type": "code",
   "execution_count": 134,
   "id": "b524ceec-91ab-45ef-bd27-a6ba0736d972",
   "metadata": {},
   "outputs": [
    {
     "name": "stdout",
     "output_type": "stream",
     "text": [
      "clovis\n",
      "clovis\n",
      "clovis\n",
      "olga\n",
      "olga\n",
      "olga\n",
      "['auca', 'uk', 'ulk']\n",
      "['auca', 'uk', 'ulk']\n",
      "['auca', 'uk', 'ulk']\n"
     ]
    }
   ],
   "source": [
    "#same as min and max you change len to min or max\n",
    "y=['olga', 'clovis', 'ira']\n",
    "for item in y:\n",
    "    print (min(y))\n",
    "y=['olga', 'clovis', 'ira']\n",
    "for item in y:\n",
    "    print (max(y))\n",
    "#sorting\n",
    "z=['auca', 'uk', 'ulk']\n",
    "for item in y:\n",
    "    print (sorted(z))"
   ]
  },
  {
   "cell_type": "code",
   "execution_count": 158,
   "id": "4e90d75d-9796-4bd3-aee7-a4d2de1a82c4",
   "metadata": {},
   "outputs": [],
   "source": [
    "#list specif function they grow and shrink, sequence functions. \n",
    "#convert list to a tupple\n",
    "x = list()\n",
    "y = ['a', 25, 'dog', 8.43]\n",
    "tuple1 = (10, 20)\n",
    "z = list(tuple1)\n"
   ]
  },
  {
   "cell_type": "code",
   "execution_count": 160,
   "id": "767649fa-2e82-4fc7-9208-2c343bc63f9c",
   "metadata": {},
   "outputs": [
    {
     "name": "stdout",
     "output_type": "stream",
     "text": [
      "[0, 1, 2, 3, 4, 5, 6, 7]\n"
     ]
    }
   ],
   "source": [
    "#list comprehension\n",
    "#creating a list\n",
    "a = [m for m in range(8)]\n",
    "print (a)"
   ]
  },
  {
   "cell_type": "code",
   "execution_count": 166,
   "id": "3d5969cd-33aa-4255-afe5-02953e37a9b9",
   "metadata": {},
   "outputs": [
    {
     "name": "stdout",
     "output_type": "stream",
     "text": [
      "[0, 1, 2, 3, 4, 5, 6, 7, 9]\n"
     ]
    }
   ],
   "source": [
    "\n",
    "#deleting a list\n",
    "x= [0, 1, 2, 3, 4, 5, 6, 7, 8, 9]\n",
    "del(x[-2])\n",
    "print(x)\n",
    "del(x)"
   ]
  },
  {
   "cell_type": "code",
   "execution_count": 172,
   "id": "887f3213-d325-4fba-af76-683d5ff17c31",
   "metadata": {},
   "outputs": [
    {
     "name": "stdout",
     "output_type": "stream",
     "text": [
      "[0, 1, 2, 3, 4, 5, 6, 7, 8, 9]\n"
     ]
    }
   ],
   "source": [
    "#append a list\n",
    "#adding item on the end of the list\n",
    "x= [0, 1, 2, 3, 4, 5, 6, 7, 8]\n",
    "x.append(9)\n",
    "print(x)"
   ]
  },
  {
   "cell_type": "code",
   "execution_count": 178,
   "id": "37d69f86-b25a-444a-845c-55f918412de7",
   "metadata": {},
   "outputs": [
    {
     "name": "stdout",
     "output_type": "stream",
     "text": [
      "[0, 1, 2, 3, 4, 5, 6, 7, 8, 9, 0, 1, 2, 3, 4, 5, 6, 7, 8, 9]\n",
      "[0, 1, 2, 3, 4, 5, 6, 7, 8, 9, 0, 1, 2, 3, 4, 5, 6, 7, 8, 9, 10, 11, 12]\n"
     ]
    }
   ],
   "source": [
    "#extend a list\n",
    "#same as append but if i extend \n",
    "#without mentioning what im gonna extend it will duplicate itself\n",
    "x= [0, 1, 2, 3, 4, 5, 6, 7, 8, 9]\n",
    "x.extend(x)\n",
    "print(x)\n",
    "\n",
    "#let mention it\n",
    "y=[10, 11, 12]\n",
    "x.extend(y)\n",
    "print(x)"
   ]
  },
  {
   "cell_type": "code",
   "execution_count": 182,
   "id": "5793d465-8b19-439b-bffa-e9cd08136cad",
   "metadata": {},
   "outputs": [
    {
     "name": "stdout",
     "output_type": "stream",
     "text": [
      "[0, 1, ['a', 'b'], 2, 3, 4, 5, 6, 7, 8, 9]\n"
     ]
    }
   ],
   "source": [
    "#insert in a list\n",
    "#you change the word append to insert\n",
    "#add vlue on index 2\n",
    "x= [0, 1, 2, 3, 4, 5, 6, 7, 8, 9]\n",
    "x.insert(2, ['a','b'])\n",
    "print(x)"
   ]
  },
  {
   "cell_type": "code",
   "execution_count": 184,
   "id": "2da091ff-f76f-484e-ad5e-aac934d33e3b",
   "metadata": {},
   "outputs": [
    {
     "name": "stdout",
     "output_type": "stream",
     "text": [
      "[0, 1, 2, 3, 4]\n"
     ]
    }
   ],
   "source": [
    "#pop\n",
    "x= [0, 1, 2, 3, 4, 5]\n",
    "x.pop()\n",
    "print(x)"
   ]
  },
  {
   "cell_type": "code",
   "execution_count": 194,
   "id": "5239194c-3896-4bce-943d-47a1413f485b",
   "metadata": {},
   "outputs": [
    {
     "name": "stdout",
     "output_type": "stream",
     "text": [
      "[0, 1, 2, 4]\n"
     ]
    }
   ],
   "source": [
    "#remove specific item\n",
    "x= [0, 1, 2, 3, 4]\n",
    "x.remove(3)\n",
    "print(x)"
   ]
  },
  {
   "cell_type": "code",
   "execution_count": 188,
   "id": "13a17f25-4831-4158-9cb0-b7d94cbeec26",
   "metadata": {},
   "outputs": [
    {
     "name": "stdout",
     "output_type": "stream",
     "text": [
      "[9, 8, 7, 6, 5, 4, 3, 2, 1, 0]\n"
     ]
    }
   ],
   "source": [
    "#reverse\n",
    "x= [0, 1, 2, 3, 4, 5, 6, 7, 8, 9]\n",
    "x.reverse()\n",
    "print(x)"
   ]
  },
  {
   "cell_type": "code",
   "execution_count": 192,
   "id": "d0ba6003-b39f-409f-bfdc-e7c751cc34b5",
   "metadata": {},
   "outputs": [
    {
     "name": "stdout",
     "output_type": "stream",
     "text": [
      "[0, 1, 7, 8, 9]\n"
     ]
    }
   ],
   "source": [
    "#sort\n",
    "x= [0, 1, 7, 8, 9]\n",
    "x.sort()\n",
    "print(x)"
   ]
  },
  {
   "cell_type": "code",
   "execution_count": 198,
   "id": "b2826f33-4546-42f8-aba4-1efadd404f33",
   "metadata": {},
   "outputs": [
    {
     "name": "stdout",
     "output_type": "stream",
     "text": [
      "()\n",
      "(1, 2, 3)\n",
      "(0, 1, 2, 3, 4, 5, 6, 7, 8, 9)\n"
     ]
    }
   ],
   "source": [
    "#create empty tuple\n",
    "x = ()\n",
    "print(x)\n",
    "#create a tuple without brackets\n",
    "y = 1, 2, 3\n",
    "print(y)\n",
    "#normal tuple\n",
    "z= (0, 1, 2, 3, 4, 5, 6, 7, 8, 9)\n",
    "print(z)"
   ]
  },
  {
   "cell_type": "code",
   "execution_count": 235,
   "id": "2903f79d-bfcc-4b41-8300-57d690602ecd",
   "metadata": {},
   "outputs": [
    {
     "name": "stdout",
     "output_type": "stream",
     "text": [
      "(0, 1, 2, [9])\n"
     ]
    }
   ],
   "source": [
    "#delete a list in tuple \n",
    "y= (0, 1, 2, [8, 9])\n",
    "del(y[-1][-2])\n",
    "print(y)"
   ]
  },
  {
   "cell_type": "code",
   "execution_count": 239,
   "id": "31373fdf-c71c-4b85-8c2d-3d42fba8f247",
   "metadata": {},
   "outputs": [
    {
     "name": "stdout",
     "output_type": "stream",
     "text": [
      "{1, 2, 3, 4, 5, 6, 7}\n",
      "set()\n"
     ]
    }
   ],
   "source": [
    "#let's learn set\n",
    "#union(u), intersection(n), subsets(c)\n",
    "#create a set\n",
    "\n",
    "a= {1, 2, 3, 4, 5, 6, 7}\n",
    "print(a)\n",
    "\n",
    "#\n",
    "b= set()\n",
    "print(b)"
   ]
  },
  {
   "cell_type": "code",
   "execution_count": 247,
   "id": "7f1cf0f3-7f32-4fe9-a791-fe14517ee4ac",
   "metadata": {},
   "outputs": [
    {
     "name": "stdout",
     "output_type": "stream",
     "text": [
      "{1, 2, 3, 4, 5, 6, 7}\n"
     ]
    }
   ],
   "source": [
    "#set operations\n",
    "#addition\n",
    "a= {1, 2, 3, 4, 5, 6, 7}\n",
    "a.add(4)\n",
    "print (a)"
   ]
  },
  {
   "cell_type": "code",
   "execution_count": 251,
   "id": "23953af0-ce90-4d76-ae4b-6be94465ee37",
   "metadata": {},
   "outputs": [
    {
     "name": "stdout",
     "output_type": "stream",
     "text": [
      "{1, 2, 3, 5, 6, 7}\n"
     ]
    }
   ],
   "source": [
    "#remove\n",
    "b= {1, 2, 3, 4, 5, 6, 7}\n",
    "b.remove(4)\n",
    "print (b)"
   ]
  },
  {
   "cell_type": "code",
   "execution_count": 253,
   "id": "8951ac02-52ea-4ca4-8125-3f27781ee03a",
   "metadata": {},
   "outputs": [
    {
     "name": "stdout",
     "output_type": "stream",
     "text": [
      "7\n"
     ]
    }
   ],
   "source": [
    "#set length\n",
    "c= {1, 2, 3, 4, 5, 6, 7}\n",
    "print (len(c))"
   ]
  },
  {
   "cell_type": "code",
   "execution_count": 271,
   "id": "bc65f3b2-5d8b-4113-b139-65060f6f4044",
   "metadata": {},
   "outputs": [
    {
     "name": "stdout",
     "output_type": "stream",
     "text": [
      "False\n",
      "True\n"
     ]
    }
   ],
   "source": [
    "#check membership\n",
    "d= {1, 2, 3, 4, 5, 6, 7}\n",
    "print (8 in d)\n",
    "print (5 in d)"
   ]
  },
  {
   "cell_type": "code",
   "execution_count": 273,
   "id": "555640fb-eb34-474e-bd6b-e4ac038b58dd",
   "metadata": {},
   "outputs": [
    {
     "name": "stdout",
     "output_type": "stream",
     "text": [
      "1 {2, 3, 4, 5, 6, 7}\n"
     ]
    }
   ],
   "source": [
    "#pop random\n",
    "e= {1, 2, 3, 4, 5, 6, 7}\n",
    "print (e.pop(), e)"
   ]
  },
  {
   "cell_type": "code",
   "execution_count": 275,
   "id": "bd5293c3-dae9-42d7-b594-3530b478c84a",
   "metadata": {},
   "outputs": [
    {
     "name": "stdout",
     "output_type": "stream",
     "text": [
      "set()\n"
     ]
    }
   ],
   "source": [
    "#delete all items\n",
    "f= {1, 2, 3, 4, 5, 6, 7}\n",
    "f.clear()\n",
    "print (f)"
   ]
  },
  {
   "cell_type": "code",
   "execution_count": 283,
   "id": "492f57b7-a275-480e-811d-13c04ae7f53b",
   "metadata": {},
   "outputs": [
    {
     "name": "stdout",
     "output_type": "stream",
     "text": [
      "{2, 4, 5}\n",
      "{0, 1, 2, 3, 4, 5, 6, 7, 8, 9}\n",
      "{0, 1, 3, 6, 7, 8, 9}\n",
      "{1, 3, 6, 7}\n",
      "False\n",
      "False\n"
     ]
    }
   ],
   "source": [
    "#checking sets\n",
    "\n",
    "a= {1, 2, 3, 4, 5, 6, 7}\n",
    "b= {5, 2, 0, 9, 8, 4}\n",
    "print(a & b) # intersect\n",
    "print(a | b) # display all\n",
    "print(a ^ b) #display all except intersect\n",
    "print(a - b) #display whatis in set a not in b\n",
    "print(a <= b) #subset of a\n",
    "print(a >= b) #superset of b"
   ]
  },
  {
   "cell_type": "code",
   "execution_count": 291,
   "id": "d1504bf6-e651-426c-83b9-3cf52fca5db0",
   "metadata": {},
   "outputs": [
    {
     "name": "stdout",
     "output_type": "stream",
     "text": [
      "{'pork': 25.3, 'beef': 33, 'fish': 22.7}\n",
      "{'pork': 25.3, 'beef': 33, 'fish': 22.7}\n"
     ]
    }
   ],
   "source": [
    "#let's learn dictionaries (dict)\n",
    "l = {'pork':25.3, 'beef':33, 'fish':22.7}\n",
    "print(l)\n",
    "k = dict([('pork', 25.3), ('beef', 33), ('fish', 22.7)])\n",
    "print(k)"
   ]
  },
  {
   "cell_type": "code",
   "execution_count": 321,
   "id": "9488406b-c2fc-4a98-b370-e083f1b5e730",
   "metadata": {},
   "outputs": [
    {
     "name": "stdout",
     "output_type": "stream",
     "text": [
      "{'shrimp': 38.9}\n"
     ]
    }
   ],
   "source": [
    "#dict operations\n",
    "l['shrimp'] = 38.9\n",
    "print(l)\n",
    "    #add or update"
   ]
  },
  {
   "cell_type": "code",
   "execution_count": 325,
   "id": "77231a46-0364-4761-a4a4-ce3e795c26ab",
   "metadata": {},
   "outputs": [
    {
     "name": "stdout",
     "output_type": "stream",
     "text": [
      "{}\n"
     ]
    }
   ],
   "source": [
    "del(l['shrimp'])\n",
    "print(l)\n",
    "#delete"
   ]
  },
  {
   "cell_type": "code",
   "execution_count": 327,
   "id": "34a61501-f69c-489d-b3b3-4fa781854e41",
   "metadata": {},
   "outputs": [
    {
     "name": "stdout",
     "output_type": "stream",
     "text": [
      "0\n"
     ]
    }
   ],
   "source": [
    "#length\n",
    "print(len(l))\n"
   ]
  },
  {
   "cell_type": "code",
   "execution_count": 329,
   "id": "8c1ff1fa-7848-4c36-87b4-f09f02b9072c",
   "metadata": {},
   "outputs": [
    {
     "name": "stdout",
     "output_type": "stream",
     "text": [
      "{}\n"
     ]
    }
   ],
   "source": [
    "#delete all\n",
    "l.clear()\n",
    "print(l)"
   ]
  },
  {
   "cell_type": "code",
   "execution_count": 335,
   "id": "0c1641fb-c453-4841-b372-f8e200ba7a03",
   "metadata": {},
   "outputs": [],
   "source": [
    "#delete dict k\n",
    "k = dict([('pork', 25.3), ('beef', 33), ('fish', 22.7)])\n",
    "del(k)"
   ]
  },
  {
   "cell_type": "code",
   "execution_count": 345,
   "id": "71b03e13-d239-4a52-9979-949120426a44",
   "metadata": {},
   "outputs": [
    {
     "name": "stdout",
     "output_type": "stream",
     "text": [
      "dict_keys(['pork', 'beef', 'fish'])\n",
      "dict_values([25.3, 33, 22.7])\n",
      "dict_items([('pork', 25.3), ('beef', 33), ('fish', 22.7)])\n"
     ]
    }
   ],
   "source": [
    "#accessing keys nd valuses in a dict\n",
    "k = dict([('pork', 25.3), ('beef', 33), ('fish', 22.7)])\n",
    "print(k.keys())\n",
    "print(k.values())\n",
    "print(k.items()) #key-value pairs"
   ]
  },
  {
   "cell_type": "code",
   "execution_count": 347,
   "id": "dc5ff3c6-d6a8-43a8-bfb6-494b5abd463b",
   "metadata": {},
   "outputs": [
    {
     "name": "stdout",
     "output_type": "stream",
     "text": [
      "False\n",
      "True\n"
     ]
    }
   ],
   "source": [
    "#check membership in k_vlues\n",
    "print('clams' in k.values())\n",
    "print('fish' in k)"
   ]
  },
  {
   "cell_type": "code",
   "execution_count": 349,
   "id": "879ae069-99ca-4c39-9af0-ad5e3e5ad027",
   "metadata": {},
   "outputs": [
    {
     "name": "stdout",
     "output_type": "stream",
     "text": [
      "pork 25.3\n",
      "beef 33\n",
      "fish 22.7\n"
     ]
    }
   ],
   "source": [
    "#iterate a dict\n",
    "\n",
    "for key in k:\n",
    "    print(key, k[key])"
   ]
  },
  {
   "cell_type": "code",
   "execution_count": 351,
   "id": "fbd20d7c-9e1e-4e98-86ef-103dd45e9831",
   "metadata": {},
   "outputs": [
    {
     "name": "stdout",
     "output_type": "stream",
     "text": [
      "World\n",
      "[4, 3, 2, 1]\n",
      "[40.7128, -74.006]\n",
      "{1, 2, 3}\n",
      "N/A\n"
     ]
    }
   ],
   "source": [
    "#LERN USING AI\n",
    "#STRING\n",
    "text = \"Hello, World!\"\n",
    "print(text[7:12])  # Slicing returns 'World' [1]\n",
    "\n",
    "#LIST\n",
    "numbers = [1, 2, 3]\n",
    "numbers.append(4)\n",
    "print(numbers[::-1])  # Reverses list [2][3]\n",
    "\n",
    "#TUPLES\n",
    "coordinates = (40.7128, -74.0060)\n",
    "# coordinates[0] = 41.8781 would raise error [1]\n",
    "print(list(coordinates))  # Convert to list [1]\n",
    "\n",
    "#SETS UNIQUES ELEMENT\n",
    "unique_nums = {1, 2, 2, 3}\n",
    "print(unique_nums)  # Outputs {1, 2, 3} [3]\n",
    "\n",
    "#DICT\n",
    "student = {'name': 'Alice', 'age': 21}\n",
    "print(student.get('grade', 'N/A'))  # Safe lookup [3]"
   ]
  },
  {
   "cell_type": "code",
   "execution_count": 356,
   "id": "be2ce738-0c5a-4a45-9db6-1233f9023827",
   "metadata": {},
   "outputs": [
    {
     "data": {
      "image/png": "[encoded data removed]",
      "text/plain": [
       "<Figure size 640x480 with 1 Axes>"
      ]
     },
     "metadata": {},
     "output_type": "display_data"
    }
   ],
   "source": [
    "#DATA VISUALIZATION\n",
    "#LINE GRAPHS\n",
    "import matplotlib.pyplot as plt\n",
    "x = [1, 2, 3, 4]\n",
    "y = [1, 4, 9, 16]\n",
    "plt.plot(x, y, marker='o')\n",
    "plt.title(\"Quadratic Growth\")\n",
    "plt.show()\n"
   ]
  },
  {
   "cell_type": "code",
   "execution_count": 358,
   "id": "4ed35151-c494-4a94-9b4e-1cc075411af9",
   "metadata": {},
   "outputs": [
    {
     "data": {
      "image/png": "[encoded data removed]",
      "text/plain": [
       "<Figure size 640x480 with 1 Axes>"
      ]
     },
     "metadata": {},
     "output_type": "display_data"
    }
   ],
   "source": [
    "\n",
    "#HISTOGRAM\n",
    "data = [1, 2, 2, 3, 3, 3, 4, 4, 5]\n",
    "plt.hist(data, bins=5, edgecolor='black')\n",
    "plt.xlabel('Values')\n",
    "plt.ylabel('Frequency')\n",
    "plt.show()\n"
   ]
  },
  {
   "cell_type": "code",
   "execution_count": 360,
   "id": "ace346d3-9597-4222-bee5-84989b30a569",
   "metadata": {},
   "outputs": [
    {
     "data": {
      "image/png": "[encoded data removed]",
      "text/plain": [
       "<Figure size 640x480 with 1 Axes>"
      ]
     },
     "metadata": {},
     "output_type": "display_data"
    }
   ],
   "source": [
    "\n",
    "#BAR CHART\n",
    "categories = ['A', 'B', 'C']\n",
    "values = [12, 15, 9]\n",
    "plt.bar(categories, values, color=['skyblue', 'salmon', 'lightgreen'])\n",
    "plt.title(\"Category Comparison\")\n",
    "plt.show()"
   ]
  },
  {
   "cell_type": "code",
   "execution_count": 380,
   "id": "a56daf4d-33f4-477a-9b8e-47e08c97cc02",
   "metadata": {},
   "outputs": [
    {
     "data": {
      "image/png": "[encoded data removed]",
      "text/plain": [
       "<Figure size 640x480 with 1 Axes>"
      ]
     },
     "metadata": {},
     "output_type": "display_data"
    }
   ],
   "source": [
    "\n",
    "#PIE CHART\n",
    "sizes = [15, 35, 40, 20]\n",
    "labels = ['A', 'B', 'C', 'D']\n",
    "plt.pie(sizes, labels=labels, autopct='%1.1f%%', explode=(0,0.1,0,0))\n",
    "plt.title(\"Category Distribution\")\n",
    "plt.show()\n"
   ]
  },
  {
   "cell_type": "code",
   "execution_count": 364,
   "id": "e20fc80b-c3ef-427a-b05c-c0152b5cbf93",
   "metadata": {},
   "outputs": [
    {
     "data": {
      "image/png": "[encoded data removed]",
      "text/plain": [
       "<Figure size 640x480 with 1 Axes>"
      ]
     },
     "metadata": {},
     "output_type": "display_data"
    }
   ],
   "source": [
    "\n",
    "#SCATTER PLOTS\n",
    "x = [5,7,8,7,2,17]\n",
    "y = [99,86,87,88,111,86]\n",
    "plt.scatter(x, y)\n",
    "plt.xlabel('X Values')\n",
    "plt.ylabel('Y Values')\n",
    "plt.show()\n"
   ]
  },
  {
   "cell_type": "code",
   "execution_count": null,
   "id": "e1f57059-7283-4d4c-b07c-d3a4c4ffd4cd",
   "metadata": {},
   "outputs": [],
   "source": []
  }
 ],
 "metadata": {
  "kernelspec": {
   "display_name": "Python [conda env:base] *",
   "language": "python",
   "name": "conda-base-py"
  },
  "language_info": {
   "codemirror_mode": {
    "name": "ipython",
    "version": 3
   },
   "file_extension": ".py",
   "mimetype": "text/x-python",
   "name": "python",
   "nbconvert_exporter": "python",
   "pygments_lexer": "ipython3",
   "version": "3.12.7"
  }
 },
 "nbformat": 4,
 "nbformat_minor": 5
}
